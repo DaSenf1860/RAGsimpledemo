{
 "cells": [
  {
   "cell_type": "markdown",
   "id": "d59d527f-1100-45ff-b051-5f7c9029d94d",
   "metadata": {},
   "source": [
    "# Queries with and without Azure OpenAI"
   ]
  },
  {
   "cell_type": "code",
   "execution_count": null,
   "id": "f90c2571",
   "metadata": {},
   "outputs": [],
   "source": [
    "import os\n",
    "import urllib\n",
    "import requests\n",
    "import json\n",
    "from dotenv import load_dotenv\n",
    "load_dotenv(\".azure/demo/.env\")\n"
   ]
  },
  {
   "cell_type": "code",
   "execution_count": null,
   "id": "3783bde4",
   "metadata": {},
   "outputs": [],
   "source": [
    "query = \"What new features are planned for Fabric One Lake?\"\n"
   ]
  },
  {
   "cell_type": "code",
   "execution_count": null,
   "id": "25b15368",
   "metadata": {},
   "outputs": [],
   "source": [
    "\n",
    "headers = {'Content-Type': 'application/json','api-key': os.environ[\"AZURE_SEARCH_KEY\"]}\n",
    "params = {'api-version': os.environ['AZURE_SEARCH_API_VERSION']}\n",
    "index = \"demoindex\"\n",
    "agg_search_results = dict()\n",
    "\n",
    "search_payload = {\n",
    "    \"search\": query,\n",
    "    \"select\": \"content, title, filepath\",\n",
    "    \"count\":\"true\",\n",
    "    \"top\": 5    \n",
    "}\n",
    "\n",
    "resp = requests.post(os.environ['AZURE_SEARCH_ENDPOINT'] + \"/indexes/\" + index + \"/docs/search\",\n",
    "                    data=json.dumps(search_payload), headers=headers, params=params)\n",
    "\n",
    "search_results = resp.json()"
   ]
  },
  {
   "cell_type": "code",
   "execution_count": null,
   "id": "7c4d5c89",
   "metadata": {},
   "outputs": [],
   "source": [
    "search_results"
   ]
  },
  {
   "cell_type": "code",
   "execution_count": null,
   "id": "e8021b9f",
   "metadata": {},
   "outputs": [],
   "source": [
    "content = \"\"\n",
    "for result in search_results[\"value\"]:\n",
    "    print(result[\"content\"])\n",
    "    content += result[\"content\"] + \" \"\n"
   ]
  },
  {
   "cell_type": "code",
   "execution_count": null,
   "id": "6d739b38",
   "metadata": {},
   "outputs": [],
   "source": [
    "url = f\"https://{os.environ[\"AZURE_OPENAI_RESOURCE\"]}.openai.azure.com/openai/deployments/gpt-4o/chat/completions?api-version=2024-06-01\"\n",
    "body = {\n",
    " \"messages\": [\n",
    "  {\n",
    "   \"role\": \"system\",\n",
    "   \"content\": f\"\"\"you're a helpful assistant that informs about technial topics. Answer the questions only using the \n",
    "   following content:{content}\"\"\"\n",
    "  },\n",
    "  {\n",
    "   \"role\": \"user\",\n",
    "   \"content\": query\n",
    "  }\n",
    " ]\n",
    "}\n",
    "headers ={\n",
    "        'Content-Type': 'application/json',\n",
    "        'api-key': os.getenv(\"AZURE_OPENAI_KEY\"),\n",
    "    }"
   ]
  },
  {
   "cell_type": "code",
   "execution_count": null,
   "id": "fef50264",
   "metadata": {},
   "outputs": [],
   "source": [
    "resp = requests.post(url, headers=headers, json=body).json()"
   ]
  },
  {
   "cell_type": "code",
   "execution_count": null,
   "id": "1869b481",
   "metadata": {},
   "outputs": [],
   "source": [
    "print(resp[\"choices\"][0][\"message\"][\"content\"])\n"
   ]
  },
  {
   "cell_type": "code",
   "execution_count": null,
   "id": "095eec6a",
   "metadata": {},
   "outputs": [],
   "source": []
  }
 ],
 "metadata": {
  "kernelspec": {
   "display_name": "Python 3",
   "language": "python",
   "name": "python3"
  },
  "language_info": {
   "codemirror_mode": {
    "name": "ipython",
    "version": 3
   },
   "file_extension": ".py",
   "mimetype": "text/x-python",
   "name": "python",
   "nbconvert_exporter": "python",
   "pygments_lexer": "ipython3",
   "version": "3.11.4"
  }
 },
 "nbformat": 4,
 "nbformat_minor": 5
}
